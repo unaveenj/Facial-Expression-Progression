{
 "cells": [
  {
   "cell_type": "code",
   "execution_count": 1,
   "metadata": {
    "execution": {
     "iopub.execute_input": "2020-10-19T16:27:16.467123Z",
     "iopub.status.busy": "2020-10-19T16:27:16.463473Z",
     "iopub.status.idle": "2020-10-19T16:27:48.221917Z",
     "shell.execute_reply": "2020-10-19T16:27:48.223340Z"
    },
    "papermill": {
     "duration": 31.780037,
     "end_time": "2020-10-19T16:27:48.223630",
     "exception": false,
     "start_time": "2020-10-19T16:27:16.443593",
     "status": "completed"
    },
    "tags": []
   },
   "outputs": [
    {
     "name": "stdout",
     "output_type": "stream",
     "text": [
      "Collecting tf_notification_callback\r\n",
      "  Downloading tf_notification_callback-0.2-py3-none-any.whl (4.2 kB)\r\n",
      "Requirement already satisfied: tensorflow>=2 in /opt/conda/lib/python3.7/site-packages (from tf_notification_callback) (2.3.0)\r\n",
      "Requirement already satisfied: keras>=2.3 in /opt/conda/lib/python3.7/site-packages (from tf_notification_callback) (2.4.3)\r\n",
      "Collecting python-telegram-bot>=12\r\n",
      "  Downloading python_telegram_bot-13.0-py2.py3-none-any.whl (404 kB)\r\n",
      "\u001b[K     |████████████████████████████████| 404 kB 594 kB/s \r\n",
      "\u001b[?25hRequirement already satisfied: matplotlib>=3 in /opt/conda/lib/python3.7/site-packages (from tf_notification_callback) (3.2.1)\r\n",
      "Requirement already satisfied: google-pasta>=0.1.8 in /opt/conda/lib/python3.7/site-packages (from tensorflow>=2->tf_notification_callback) (0.2.0)\r\n",
      "Requirement already satisfied: tensorflow-estimator<2.4.0,>=2.3.0 in /opt/conda/lib/python3.7/site-packages (from tensorflow>=2->tf_notification_callback) (2.3.0)\r\n",
      "Requirement already satisfied: wheel>=0.26 in /opt/conda/lib/python3.7/site-packages (from tensorflow>=2->tf_notification_callback) (0.34.2)\r\n",
      "Requirement already satisfied: grpcio>=1.8.6 in /opt/conda/lib/python3.7/site-packages (from tensorflow>=2->tf_notification_callback) (1.32.0)\r\n",
      "Requirement already satisfied: h5py<2.11.0,>=2.10.0 in /opt/conda/lib/python3.7/site-packages (from tensorflow>=2->tf_notification_callback) (2.10.0)\r\n",
      "Requirement already satisfied: tensorboard<3,>=2.3.0 in /opt/conda/lib/python3.7/site-packages (from tensorflow>=2->tf_notification_callback) (2.3.0)\r\n",
      "Requirement already satisfied: keras-preprocessing<1.2,>=1.1.1 in /opt/conda/lib/python3.7/site-packages (from tensorflow>=2->tf_notification_callback) (1.1.2)\r\n",
      "Requirement already satisfied: astunparse==1.6.3 in /opt/conda/lib/python3.7/site-packages (from tensorflow>=2->tf_notification_callback) (1.6.3)\r\n",
      "Requirement already satisfied: absl-py>=0.7.0 in /opt/conda/lib/python3.7/site-packages (from tensorflow>=2->tf_notification_callback) (0.10.0)\r\n",
      "Requirement already satisfied: opt-einsum>=2.3.2 in /opt/conda/lib/python3.7/site-packages (from tensorflow>=2->tf_notification_callback) (3.3.0)\r\n",
      "Requirement already satisfied: protobuf>=3.9.2 in /opt/conda/lib/python3.7/site-packages (from tensorflow>=2->tf_notification_callback) (3.13.0)\r\n",
      "Requirement already satisfied: numpy<1.19.0,>=1.16.0 in /opt/conda/lib/python3.7/site-packages (from tensorflow>=2->tf_notification_callback) (1.18.5)\r\n",
      "Requirement already satisfied: termcolor>=1.1.0 in /opt/conda/lib/python3.7/site-packages (from tensorflow>=2->tf_notification_callback) (1.1.0)\r\n",
      "Requirement already satisfied: wrapt>=1.11.1 in /opt/conda/lib/python3.7/site-packages (from tensorflow>=2->tf_notification_callback) (1.11.2)\r\n",
      "Requirement already satisfied: six>=1.12.0 in /opt/conda/lib/python3.7/site-packages (from tensorflow>=2->tf_notification_callback) (1.14.0)\r\n",
      "Requirement already satisfied: scipy==1.4.1 in /opt/conda/lib/python3.7/site-packages (from tensorflow>=2->tf_notification_callback) (1.4.1)\r\n",
      "Requirement already satisfied: gast==0.3.3 in /opt/conda/lib/python3.7/site-packages (from tensorflow>=2->tf_notification_callback) (0.3.3)\r\n",
      "Requirement already satisfied: pyyaml in /opt/conda/lib/python3.7/site-packages (from keras>=2.3->tf_notification_callback) (5.3.1)\r\n",
      "Requirement already satisfied: certifi in /opt/conda/lib/python3.7/site-packages (from python-telegram-bot>=12->tf_notification_callback) (2020.6.20)\r\n",
      "Requirement already satisfied: decorator>=4.4.0 in /opt/conda/lib/python3.7/site-packages (from python-telegram-bot>=12->tf_notification_callback) (4.4.2)\r\n",
      "Requirement already satisfied: cryptography in /opt/conda/lib/python3.7/site-packages (from python-telegram-bot>=12->tf_notification_callback) (2.8)\r\n",
      "Collecting tornado>=5.1\r\n",
      "  Downloading tornado-6.0.4.tar.gz (496 kB)\r\n",
      "\u001b[K     |████████████████████████████████| 496 kB 2.5 MB/s \r\n",
      "\u001b[?25hCollecting APScheduler==3.6.3\r\n",
      "  Downloading APScheduler-3.6.3-py2.py3-none-any.whl (58 kB)\r\n",
      "\u001b[K     |████████████████████████████████| 58 kB 1.3 MB/s \r\n",
      "\u001b[?25hRequirement already satisfied: kiwisolver>=1.0.1 in /opt/conda/lib/python3.7/site-packages (from matplotlib>=3->tf_notification_callback) (1.2.0)\r\n",
      "Requirement already satisfied: pyparsing!=2.0.4,!=2.1.2,!=2.1.6,>=2.0.1 in /opt/conda/lib/python3.7/site-packages (from matplotlib>=3->tf_notification_callback) (2.4.7)\r\n",
      "Requirement already satisfied: python-dateutil>=2.1 in /opt/conda/lib/python3.7/site-packages (from matplotlib>=3->tf_notification_callback) (2.8.1)\r\n",
      "Requirement already satisfied: cycler>=0.10 in /opt/conda/lib/python3.7/site-packages (from matplotlib>=3->tf_notification_callback) (0.10.0)\r\n",
      "Requirement already satisfied: google-auth-oauthlib<0.5,>=0.4.1 in /opt/conda/lib/python3.7/site-packages (from tensorboard<3,>=2.3.0->tensorflow>=2->tf_notification_callback) (0.4.1)\r\n",
      "Requirement already satisfied: setuptools>=41.0.0 in /opt/conda/lib/python3.7/site-packages (from tensorboard<3,>=2.3.0->tensorflow>=2->tf_notification_callback) (46.1.3.post20200325)\r\n",
      "Requirement already satisfied: tensorboard-plugin-wit>=1.6.0 in /opt/conda/lib/python3.7/site-packages (from tensorboard<3,>=2.3.0->tensorflow>=2->tf_notification_callback) (1.7.0)\r\n",
      "Requirement already satisfied: markdown>=2.6.8 in /opt/conda/lib/python3.7/site-packages (from tensorboard<3,>=2.3.0->tensorflow>=2->tf_notification_callback) (3.2.1)\r\n",
      "Requirement already satisfied: google-auth<2,>=1.6.3 in /opt/conda/lib/python3.7/site-packages (from tensorboard<3,>=2.3.0->tensorflow>=2->tf_notification_callback) (1.14.0)\r\n",
      "Requirement already satisfied: requests<3,>=2.21.0 in /opt/conda/lib/python3.7/site-packages (from tensorboard<3,>=2.3.0->tensorflow>=2->tf_notification_callback) (2.23.0)\r\n",
      "Requirement already satisfied: werkzeug>=0.11.15 in /opt/conda/lib/python3.7/site-packages (from tensorboard<3,>=2.3.0->tensorflow>=2->tf_notification_callback) (1.0.1)\r\n",
      "Requirement already satisfied: cffi!=1.11.3,>=1.8 in /opt/conda/lib/python3.7/site-packages (from cryptography->python-telegram-bot>=12->tf_notification_callback) (1.14.0)\r\n",
      "Requirement already satisfied: tzlocal>=1.2 in /opt/conda/lib/python3.7/site-packages (from APScheduler==3.6.3->python-telegram-bot>=12->tf_notification_callback) (2.1)\r\n",
      "Requirement already satisfied: pytz in /opt/conda/lib/python3.7/site-packages (from APScheduler==3.6.3->python-telegram-bot>=12->tf_notification_callback) (2019.3)\r\n",
      "Requirement already satisfied: requests-oauthlib>=0.7.0 in /opt/conda/lib/python3.7/site-packages (from google-auth-oauthlib<0.5,>=0.4.1->tensorboard<3,>=2.3.0->tensorflow>=2->tf_notification_callback) (1.2.0)\r\n",
      "Requirement already satisfied: pyasn1-modules>=0.2.1 in /opt/conda/lib/python3.7/site-packages (from google-auth<2,>=1.6.3->tensorboard<3,>=2.3.0->tensorflow>=2->tf_notification_callback) (0.2.7)\r\n",
      "Requirement already satisfied: cachetools<5.0,>=2.0.0 in /opt/conda/lib/python3.7/site-packages (from google-auth<2,>=1.6.3->tensorboard<3,>=2.3.0->tensorflow>=2->tf_notification_callback) (3.1.1)\r\n",
      "Requirement already satisfied: rsa<4.1,>=3.1.4 in /opt/conda/lib/python3.7/site-packages (from google-auth<2,>=1.6.3->tensorboard<3,>=2.3.0->tensorflow>=2->tf_notification_callback) (4.0)\r\n",
      "Requirement already satisfied: idna<3,>=2.5 in /opt/conda/lib/python3.7/site-packages (from requests<3,>=2.21.0->tensorboard<3,>=2.3.0->tensorflow>=2->tf_notification_callback) (2.9)\r\n",
      "Requirement already satisfied: chardet<4,>=3.0.2 in /opt/conda/lib/python3.7/site-packages (from requests<3,>=2.21.0->tensorboard<3,>=2.3.0->tensorflow>=2->tf_notification_callback) (3.0.4)\r\n",
      "Requirement already satisfied: urllib3!=1.25.0,!=1.25.1,<1.26,>=1.21.1 in /opt/conda/lib/python3.7/site-packages (from requests<3,>=2.21.0->tensorboard<3,>=2.3.0->tensorflow>=2->tf_notification_callback) (1.24.3)\r\n",
      "Requirement already satisfied: pycparser in /opt/conda/lib/python3.7/site-packages (from cffi!=1.11.3,>=1.8->cryptography->python-telegram-bot>=12->tf_notification_callback) (2.20)\r\n",
      "Requirement already satisfied: oauthlib>=3.0.0 in /opt/conda/lib/python3.7/site-packages (from requests-oauthlib>=0.7.0->google-auth-oauthlib<0.5,>=0.4.1->tensorboard<3,>=2.3.0->tensorflow>=2->tf_notification_callback) (3.0.1)\r\n",
      "Requirement already satisfied: pyasn1<0.5.0,>=0.4.6 in /opt/conda/lib/python3.7/site-packages (from pyasn1-modules>=0.2.1->google-auth<2,>=1.6.3->tensorboard<3,>=2.3.0->tensorflow>=2->tf_notification_callback) (0.4.8)\r\n",
      "Building wheels for collected packages: tornado\r\n",
      "  Building wheel for tornado (setup.py) ... \u001b[?25l-\b \b\\\b \b|\b \b/\b \bdone\r\n",
      "\u001b[?25h  Created wheel for tornado: filename=tornado-6.0.4-cp37-cp37m-linux_x86_64.whl size=428630 sha256=6bf54c751c84f163b143167d3037b9499fc4b844ea5ab27ae17917a068372c23\r\n",
      "  Stored in directory: /root/.cache/pip/wheels/7d/14/fa/d88fb5da77d813ea0ffca38a2ab2a052874e9e1142bad0b348\r\n",
      "Successfully built tornado\r\n",
      "Installing collected packages: tornado, APScheduler, python-telegram-bot, tf-notification-callback\r\n",
      "  Attempting uninstall: tornado\r\n",
      "    Found existing installation: tornado 5.0.2\r\n",
      "    Uninstalling tornado-5.0.2:\r\n",
      "      Successfully uninstalled tornado-5.0.2\r\n",
      "\u001b[31mERROR: After October 2020 you may experience errors when installing or updating packages. This is because pip will change the way that it resolves dependency conflicts.\r\n",
      "\r\n",
      "We recommend you use --use-feature=2020-resolver to test your packages with the new resolver before it becomes the default.\r\n",
      "\r\n",
      "jupyterlab-git 0.10.0 requires nbdime<2.0.0,>=1.1.0, but you'll have nbdime 2.0.0 which is incompatible.\r\n",
      "dask-xgboost 0.1.11 requires xgboost<=0.90, but you'll have xgboost 1.2.0 which is incompatible.\u001b[0m\r\n",
      "Successfully installed APScheduler-3.6.3 python-telegram-bot-13.0 tf-notification-callback-0.2 tornado-6.0.4\r\n",
      "\u001b[33mWARNING: You are using pip version 20.2.3; however, version 20.2.4 is available.\r\n",
      "You should consider upgrading via the '/opt/conda/bin/python3.7 -m pip install --upgrade pip' command.\u001b[0m\r\n",
      "Collecting livelossplot\r\n",
      "  Downloading livelossplot-0.5.3-py3-none-any.whl (30 kB)\r\n",
      "Requirement already satisfied: bokeh; python_version >= \"3.6\" in /opt/conda/lib/python3.7/site-packages (from livelossplot) (2.2.1)\r\n",
      "Requirement already satisfied: matplotlib; python_version >= \"3.6\" in /opt/conda/lib/python3.7/site-packages (from livelossplot) (3.2.1)\r\n",
      "Requirement already satisfied: ipython in /opt/conda/lib/python3.7/site-packages (from livelossplot) (7.13.0)\r\n",
      "Requirement already satisfied: python-dateutil>=2.1 in /opt/conda/lib/python3.7/site-packages (from bokeh; python_version >= \"3.6\"->livelossplot) (2.8.1)\r\n",
      "Requirement already satisfied: Jinja2>=2.7 in /opt/conda/lib/python3.7/site-packages (from bokeh; python_version >= \"3.6\"->livelossplot) (2.11.2)\r\n",
      "Requirement already satisfied: numpy>=1.11.3 in /opt/conda/lib/python3.7/site-packages (from bokeh; python_version >= \"3.6\"->livelossplot) (1.18.5)\r\n",
      "Requirement already satisfied: pillow>=7.1.0 in /opt/conda/lib/python3.7/site-packages (from bokeh; python_version >= \"3.6\"->livelossplot) (7.2.0)\r\n",
      "Requirement already satisfied: tornado>=5.1 in /opt/conda/lib/python3.7/site-packages (from bokeh; python_version >= \"3.6\"->livelossplot) (6.0.4)\r\n",
      "Requirement already satisfied: typing-extensions>=3.7.4 in /opt/conda/lib/python3.7/site-packages (from bokeh; python_version >= \"3.6\"->livelossplot) (3.7.4.1)\r\n",
      "Requirement already satisfied: packaging>=16.8 in /opt/conda/lib/python3.7/site-packages (from bokeh; python_version >= \"3.6\"->livelossplot) (20.1)\r\n",
      "Requirement already satisfied: PyYAML>=3.10 in /opt/conda/lib/python3.7/site-packages (from bokeh; python_version >= \"3.6\"->livelossplot) (5.3.1)\r\n",
      "Requirement already satisfied: cycler>=0.10 in /opt/conda/lib/python3.7/site-packages (from matplotlib; python_version >= \"3.6\"->livelossplot) (0.10.0)\r\n",
      "Requirement already satisfied: pyparsing!=2.0.4,!=2.1.2,!=2.1.6,>=2.0.1 in /opt/conda/lib/python3.7/site-packages (from matplotlib; python_version >= \"3.6\"->livelossplot) (2.4.7)\r\n",
      "Requirement already satisfied: kiwisolver>=1.0.1 in /opt/conda/lib/python3.7/site-packages (from matplotlib; python_version >= \"3.6\"->livelossplot) (1.2.0)\r\n",
      "Requirement already satisfied: pexpect; sys_platform != \"win32\" in /opt/conda/lib/python3.7/site-packages (from ipython->livelossplot) (4.8.0)\r\n",
      "Requirement already satisfied: decorator in /opt/conda/lib/python3.7/site-packages (from ipython->livelossplot) (4.4.2)\r\n",
      "Requirement already satisfied: jedi>=0.10 in /opt/conda/lib/python3.7/site-packages (from ipython->livelossplot) (0.15.2)\r\n",
      "Requirement already satisfied: backcall in /opt/conda/lib/python3.7/site-packages (from ipython->livelossplot) (0.1.0)\r\n",
      "Requirement already satisfied: setuptools>=18.5 in /opt/conda/lib/python3.7/site-packages (from ipython->livelossplot) (46.1.3.post20200325)\r\n",
      "Requirement already satisfied: pygments in /opt/conda/lib/python3.7/site-packages (from ipython->livelossplot) (2.6.1)\r\n",
      "Requirement already satisfied: traitlets>=4.2 in /opt/conda/lib/python3.7/site-packages (from ipython->livelossplot) (4.3.3)\r\n",
      "Requirement already satisfied: prompt-toolkit!=3.0.0,!=3.0.1,<3.1.0,>=2.0.0 in /opt/conda/lib/python3.7/site-packages (from ipython->livelossplot) (3.0.5)\r\n",
      "Requirement already satisfied: pickleshare in /opt/conda/lib/python3.7/site-packages (from ipython->livelossplot) (0.7.5)\r\n",
      "Requirement already satisfied: six>=1.5 in /opt/conda/lib/python3.7/site-packages (from python-dateutil>=2.1->bokeh; python_version >= \"3.6\"->livelossplot) (1.14.0)\r\n",
      "Requirement already satisfied: MarkupSafe>=0.23 in /opt/conda/lib/python3.7/site-packages (from Jinja2>=2.7->bokeh; python_version >= \"3.6\"->livelossplot) (1.1.1)\r\n",
      "Requirement already satisfied: ptyprocess>=0.5 in /opt/conda/lib/python3.7/site-packages (from pexpect; sys_platform != \"win32\"->ipython->livelossplot) (0.6.0)\r\n",
      "Requirement already satisfied: parso>=0.5.2 in /opt/conda/lib/python3.7/site-packages (from jedi>=0.10->ipython->livelossplot) (0.5.2)\r\n",
      "Requirement already satisfied: ipython-genutils in /opt/conda/lib/python3.7/site-packages (from traitlets>=4.2->ipython->livelossplot) (0.2.0)\r\n",
      "Requirement already satisfied: wcwidth in /opt/conda/lib/python3.7/site-packages (from prompt-toolkit!=3.0.0,!=3.0.1,<3.1.0,>=2.0.0->ipython->livelossplot) (0.1.9)\r\n",
      "Installing collected packages: livelossplot\r\n",
      "Successfully installed livelossplot-0.5.3\r\n",
      "\u001b[33mWARNING: You are using pip version 20.2.3; however, version 20.2.4 is available.\r\n",
      "You should consider upgrading via the '/opt/conda/bin/python3.7 -m pip install --upgrade pip' command.\u001b[0m\r\n"
     ]
    }
   ],
   "source": [
    "!pip install tf_notification_callback\n",
    "!pip install livelossplot\n",
    "# raw keras\n",
    "from livelossplot import PlotLossesKeras\n",
    "plotlosses = PlotLossesKeras()\n",
    "from tf_notification_callback import TelegramCallback\n",
    "telegram_callback = TelegramCallback('1349030414:AAGOY3VPrppCE43qVCLcBP7RbmlC2heV7gY',\n",
    "                                     '-399009598',\n",
    "                            f'Emotion Recoginition Model_19thOct2020',\n",
    "                           ['loss', 'val_loss'],\n",
    "                            ['accuracy', 'val_accuracy'],\n",
    "                           getSummary=False)\n",
    "\n",
    "callbacks = [telegram_callback,plotlosses]"
   ]
  },
  {
   "cell_type": "code",
   "execution_count": 2,
   "metadata": {
    "_cell_guid": "b1076dfc-b9ad-4769-8c92-a6c4dae69d19",
    "_uuid": "8f2839f25d086af736a60e9eeb907d3b93b6e0e5",
    "execution": {
     "iopub.execute_input": "2020-10-19T16:27:48.330378Z",
     "iopub.status.busy": "2020-10-19T16:27:48.329320Z",
     "iopub.status.idle": "2020-10-19T16:27:49.621364Z",
     "shell.execute_reply": "2020-10-19T16:27:49.622052Z"
    },
    "papermill": {
     "duration": 1.345769,
     "end_time": "2020-10-19T16:27:49.622203",
     "exception": false,
     "start_time": "2020-10-19T16:27:48.276434",
     "status": "completed"
    },
    "tags": []
   },
   "outputs": [
    {
     "name": "stdout",
     "output_type": "stream",
     "text": [
      "/kaggle/input/challenges-in-representation-learning-facial-expression-recognition-challenge/train.csv\n",
      "['challenges-in-representation-learning-facial-expression-recognition-challenge']\n",
      "/kaggle/input/challenges-in-representation-learning-facial-expression-recognition-challenge/icml_face_data.csv\n",
      "['challenges-in-representation-learning-facial-expression-recognition-challenge']\n",
      "/kaggle/input/challenges-in-representation-learning-facial-expression-recognition-challenge/fer2013.tar.gz\n",
      "['challenges-in-representation-learning-facial-expression-recognition-challenge']\n",
      "/kaggle/input/challenges-in-representation-learning-facial-expression-recognition-challenge/test.csv\n",
      "['challenges-in-representation-learning-facial-expression-recognition-challenge']\n",
      "/kaggle/input/challenges-in-representation-learning-facial-expression-recognition-challenge/example_submission.csv\n",
      "['challenges-in-representation-learning-facial-expression-recognition-challenge']\n"
     ]
    }
   ],
   "source": [
    "# This Python 3 environment comes with many helpful analytics libraries installed\n",
    "# It is defined by the kaggle/python Docker image: https://github.com/kaggle/docker-python\n",
    "# For example, here's several helpful packages to load\n",
    "\n",
    "from keras.applications.resnet50 import ResNet50\n",
    "from keras.models import Model\n",
    "import keras\n",
    "import csv\n",
    "from PIL import Image    \n",
    "from sklearn.model_selection import train_test_split\n",
    "from keras.layers import Input, Add, Dense, Activation, ZeroPadding2D,BatchNormalization, Flatten, Conv2D, AveragePooling2D, MaxPooling2D, GlobalMaxPooling2D\n",
    "from tqdm import tqdm\n",
    "import numpy as np # linear algebra\n",
    "from numpy import asarray\n",
    "from sklearn.preprocessing import OneHotEncoder\n",
    "from sklearn.datasets import make_classification\n",
    "from imblearn.over_sampling import RandomOverSampler\n",
    "import collections\n",
    "import pandas as pd # data processing, CSV file I/O (e.g. pd.read_csv)\n",
    "import matplotlib.pyplot as plt\n",
    "import tensorflow as tf\n",
    "from keras.preprocessing import image\n",
    "from keras.preprocessing.image import load_img\n",
    "from keras.preprocessing.image import img_to_array\n",
    "from keras.preprocessing.image import ImageDataGenerator\n",
    "from keras.layers.normalization import BatchNormalization\n",
    "from tensorflow.keras import datasets, layers, models\n",
    "from tensorflow.keras.layers import Dropout\n",
    "import matplotlib.pyplot as plt\n",
    "from sklearn.model_selection import train_test_split \n",
    "\n",
    "# Input data files are available in the read-only \"../input/\" directory\n",
    "# For example, running this (by clicking run or pressing Shift+Enter) will list all files under the input directory\n",
    "# from tensorflow.keras.utils import plot_model\n",
    "import os\n",
    "for dirname, _, filenames in os.walk('/kaggle/input'):\n",
    "    for filename in filenames:\n",
    "        print(os.path.join(dirname, filename))\n",
    "        print(os.listdir(\"../input\"))\n",
    "        \n",
    "\n",
    "# You can write up to 5GB to the current directory (/kaggle/working/) that gets preserved as output when you create a version using \"Save & Run All\" \n",
    "# You can also write temporary files to /kaggle/temp/, but they won't be saved outside of the current session\n",
    "\n"
   ]
  },
  {
   "cell_type": "code",
   "execution_count": 3,
   "metadata": {
    "_cell_guid": "79c7e3d0-c299-4dcb-8224-4455121ee9b0",
    "_uuid": "d629ff2d2480ee46fbb7e2d37f6b5fab8052498a",
    "execution": {
     "iopub.execute_input": "2020-10-19T16:27:49.697802Z",
     "iopub.status.busy": "2020-10-19T16:27:49.697129Z",
     "iopub.status.idle": "2020-10-19T16:27:59.915301Z",
     "shell.execute_reply": "2020-10-19T16:27:59.914056Z"
    },
    "papermill": {
     "duration": 10.258353,
     "end_time": "2020-10-19T16:27:59.915434",
     "exception": false,
     "start_time": "2020-10-19T16:27:49.657081",
     "status": "completed"
    },
    "tags": []
   },
   "outputs": [],
   "source": [
    "data_set = pd.read_csv('/kaggle/input/challenges-in-representation-learning-facial-expression-recognition-challenge/train.csv')\n",
    "examples = pd.read_csv('/kaggle/input/challenges-in-representation-learning-facial-expression-recognition-challenge/test.csv')\n",
    "icml_face_data = pd.read_csv('/kaggle/input/challenges-in-representation-learning-facial-expression-recognition-challenge/icml_face_data.csv')"
   ]
  },
  {
   "cell_type": "code",
   "execution_count": 4,
   "metadata": {
    "execution": {
     "iopub.execute_input": "2020-10-19T16:28:00.013883Z",
     "iopub.status.busy": "2020-10-19T16:28:00.013025Z",
     "iopub.status.idle": "2020-10-19T16:28:00.018872Z",
     "shell.execute_reply": "2020-10-19T16:28:00.019406Z"
    },
    "papermill": {
     "duration": 0.064531,
     "end_time": "2020-10-19T16:28:00.019558",
     "exception": false,
     "start_time": "2020-10-19T16:27:59.955027",
     "status": "completed"
    },
    "tags": []
   },
   "outputs": [
    {
     "data": {
      "text/plain": [
       "Counter({0: 3995, 2: 4097, 4: 4830, 6: 4965, 3: 7215, 5: 3171, 1: 436})"
      ]
     },
     "execution_count": 4,
     "metadata": {},
     "output_type": "execute_result"
    }
   ],
   "source": [
    "ax = np.array(data_set.emotion)\n",
    "collections.Counter(ax)"
   ]
  },
  {
   "cell_type": "code",
   "execution_count": 5,
   "metadata": {
    "execution": {
     "iopub.execute_input": "2020-10-19T16:28:00.097775Z",
     "iopub.status.busy": "2020-10-19T16:28:00.096806Z",
     "iopub.status.idle": "2020-10-19T16:28:00.154420Z",
     "shell.execute_reply": "2020-10-19T16:28:00.153865Z"
    },
    "papermill": {
     "duration": 0.099173,
     "end_time": "2020-10-19T16:28:00.154553",
     "exception": false,
     "start_time": "2020-10-19T16:28:00.055380",
     "status": "completed"
    },
    "tags": []
   },
   "outputs": [
    {
     "data": {
      "text/plain": [
       "Counter({0: 7215, 2: 7215, 4: 7215, 6: 7215, 3: 7215, 5: 7215, 1: 7215})"
      ]
     },
     "execution_count": 5,
     "metadata": {},
     "output_type": "execute_result"
    }
   ],
   "source": [
    "oversample = RandomOverSampler(sampling_strategy='auto')\n",
    "# fit and apply the transform\n",
    "X_over, y_over = oversample.fit_resample((data_set.pixels).values.reshape(-1, 1), data_set.emotion)\n",
    "\n",
    "\n",
    "a = np.array(y_over)\n",
    "collections.Counter(a)\n",
    "\n",
    "\n",
    "\n",
    "\n"
   ]
  },
  {
   "cell_type": "code",
   "execution_count": 6,
   "metadata": {
    "execution": {
     "iopub.execute_input": "2020-10-19T16:28:00.234943Z",
     "iopub.status.busy": "2020-10-19T16:28:00.233988Z",
     "iopub.status.idle": "2020-10-19T16:28:00.244568Z",
     "shell.execute_reply": "2020-10-19T16:28:00.245260Z"
    },
    "papermill": {
     "duration": 0.054842,
     "end_time": "2020-10-19T16:28:00.245394",
     "exception": false,
     "start_time": "2020-10-19T16:28:00.190552",
     "status": "completed"
    },
    "tags": []
   },
   "outputs": [
    {
     "name": "stdout",
     "output_type": "stream",
     "text": [
      "X_train shape: (40404, 1)\n",
      "Y_train shape: (40404, 1)\n",
      "X_test shape: (10101, 1)\n",
      "Y_test shape: (10101, 1)\n"
     ]
    }
   ],
   "source": [
    "\n",
    "y_over = pd.Series(y_over)\n",
    "y_over= y_over.values.reshape(len(y_over),1)\n",
    "\n",
    "X_train,X_test,Y_train,Y_test = train_test_split(X_over,y_over, test_size=0.2)\n",
    "#print(X_train[11])\n",
    "print (\"X_train shape: \" + str(X_train.shape))\n",
    "print (\"Y_train shape: \" + str(Y_train.shape))\n",
    "print (\"X_test shape: \" + str(X_test.shape))\n",
    "print (\"Y_test shape: \" + str(Y_test.shape))\n"
   ]
  },
  {
   "cell_type": "code",
   "execution_count": 7,
   "metadata": {
    "execution": {
     "iopub.execute_input": "2020-10-19T16:28:00.327244Z",
     "iopub.status.busy": "2020-10-19T16:28:00.325292Z",
     "iopub.status.idle": "2020-10-19T16:28:00.328033Z",
     "shell.execute_reply": "2020-10-19T16:28:00.328602Z"
    },
    "papermill": {
     "duration": 0.04678,
     "end_time": "2020-10-19T16:28:00.328727",
     "exception": false,
     "start_time": "2020-10-19T16:28:00.281947",
     "status": "completed"
    },
    "tags": []
   },
   "outputs": [],
   "source": [
    "def preprocessing(pixels):\n",
    "    a = []\n",
    "    \n",
    "    for i in range(len(pixels)):\n",
    "            image_string = (pixels)[i].split(' ') \n",
    "            image_data = np.asarray(image_string, dtype=np.uint8).reshape(48,48,1)\n",
    "            a.append(image_data)\n",
    "\n",
    "    return a"
   ]
  },
  {
   "cell_type": "code",
   "execution_count": 8,
   "metadata": {
    "execution": {
     "iopub.execute_input": "2020-10-19T16:28:00.442893Z",
     "iopub.status.busy": "2020-10-19T16:28:00.437540Z",
     "iopub.status.idle": "2020-10-19T16:28:33.799370Z",
     "shell.execute_reply": "2020-10-19T16:28:33.800486Z"
    },
    "papermill": {
     "duration": 33.435887,
     "end_time": "2020-10-19T16:28:33.800766",
     "exception": false,
     "start_time": "2020-10-19T16:28:00.364879",
     "status": "completed"
    },
    "tags": []
   },
   "outputs": [
    {
     "name": "stdout",
     "output_type": "stream",
     "text": [
      "number of training examples = 40404\n",
      "X_train shape: (40404, 48, 48, 1)\n",
      "Y_train shape: (40404, 1)\n"
     ]
    }
   ],
   "source": [
    "%matplotlib inline\n",
    "a= []\n",
    "\n",
    "X_train = pd.Series(X_train.flatten())\n",
    "X_train_resnet50 =X_train\n",
    "a = preprocessing(X_train)\n",
    "\n",
    "\n",
    "\n",
    "X_train = np.array(a)\n",
    "#X_test =test\n",
    "# Y_train = y_over\n",
    "\n",
    "print (\"number of training examples = \" + str(X_train.shape[0]))\n",
    "print (\"X_train shape: \" + str(X_train.shape))\n",
    "print (\"Y_train shape: \" + str(Y_train.shape))\n",
    "\n"
   ]
  },
  {
   "cell_type": "code",
   "execution_count": 9,
   "metadata": {
    "execution": {
     "iopub.execute_input": "2020-10-19T16:28:33.919601Z",
     "iopub.status.busy": "2020-10-19T16:28:33.918616Z",
     "iopub.status.idle": "2020-10-19T16:29:16.197165Z",
     "shell.execute_reply": "2020-10-19T16:29:16.196078Z"
    },
    "papermill": {
     "duration": 42.343775,
     "end_time": "2020-10-19T16:29:16.197286",
     "exception": false,
     "start_time": "2020-10-19T16:28:33.853511",
     "status": "completed"
    },
    "tags": []
   },
   "outputs": [
    {
     "name": "stdout",
     "output_type": "stream",
     "text": [
      "(40404, 48, 48, 3)\n",
      "Downloading data from https://storage.googleapis.com/tensorflow/keras-applications/resnet/resnet50_weights_tf_dim_ordering_tf_kernels_notop.h5\n",
      "94773248/94765736 [==============================] - 1s 0us/step\n"
     ]
    },
    {
     "ename": "NameError",
     "evalue": "name 'callback' is not defined",
     "output_type": "error",
     "traceback": [
      "\u001b[0;31m---------------------------------------------------------------------------\u001b[0m",
      "\u001b[0;31mNameError\u001b[0m                                 Traceback (most recent call last)",
      "\u001b[0;32m<ipython-input-9-ea4421a9a480>\u001b[0m in \u001b[0;36m<module>\u001b[0;34m\u001b[0m\n\u001b[1;32m     22\u001b[0m               metrics=['accuracy'])\n\u001b[1;32m     23\u001b[0m \u001b[0;34m\u001b[0m\u001b[0m\n\u001b[0;32m---> 24\u001b[0;31m \u001b[0mmodel50\u001b[0m\u001b[0;34m.\u001b[0m\u001b[0mfit\u001b[0m\u001b[0;34m(\u001b[0m\u001b[0mrgb_X_train\u001b[0m\u001b[0;34m,\u001b[0m \u001b[0mY_train\u001b[0m\u001b[0;34m,\u001b[0m \u001b[0mbatch_size\u001b[0m\u001b[0;34m=\u001b[0m\u001b[0;36m64\u001b[0m\u001b[0;34m,\u001b[0m \u001b[0mepochs\u001b[0m\u001b[0;34m=\u001b[0m\u001b[0;36m40\u001b[0m\u001b[0;34m,\u001b[0m \u001b[0msteps_per_epoch\u001b[0m\u001b[0;34m=\u001b[0m\u001b[0mlen\u001b[0m\u001b[0;34m(\u001b[0m\u001b[0mX_train\u001b[0m\u001b[0;34m)\u001b[0m\u001b[0;34m/\u001b[0m\u001b[0;36m128\u001b[0m\u001b[0;34m,\u001b[0m \u001b[0mvalidation_split\u001b[0m \u001b[0;34m=\u001b[0m \u001b[0;36m0.25\u001b[0m\u001b[0;34m,\u001b[0m\u001b[0mcallbacks\u001b[0m\u001b[0;34m=\u001b[0m\u001b[0mcallback\u001b[0m\u001b[0;34m)\u001b[0m\u001b[0;34m\u001b[0m\u001b[0;34m\u001b[0m\u001b[0m\n\u001b[0m\u001b[1;32m     25\u001b[0m \u001b[0mmodel50\u001b[0m\u001b[0;34m.\u001b[0m\u001b[0msave\u001b[0m\u001b[0;34m(\u001b[0m\u001b[0;34m'CNNmodel'\u001b[0m\u001b[0;34m)\u001b[0m\u001b[0;34m\u001b[0m\u001b[0;34m\u001b[0m\u001b[0m\n",
      "\u001b[0;31mNameError\u001b[0m: name 'callback' is not defined"
     ]
    }
   ],
   "source": [
    "# ResNet50\n",
    "a = []\n",
    "for i in range(len(X_train_resnet50)):\n",
    "            image_string = (X_train_resnet50)[i].split(' ') \n",
    "            image_data = np.asarray(image_string, dtype=np.uint8).reshape(48,48)\n",
    "            a.append(image_data)\n",
    "\n",
    "X_train_resnet50 = np.array(a)\n",
    "rgb_X_train = np.repeat(X_train_resnet50[..., np.newaxis], 3, -1)\n",
    "print(rgb_X_train.shape)  # (size, 48, 48, 3)\n",
    "\n",
    "model1 = ResNet50(weights='imagenet', include_top=False, input_shape=(48, 48, 3))\n",
    "\n",
    "x = model1.output\n",
    "x= Flatten()(x)\n",
    "x = Dense(7, activation='softmax')(x)\n",
    "model50 = Model(inputs=model1.input, outputs=x)\n",
    "\n",
    "\n",
    "model50.compile(optimizer='adam',\n",
    "              loss=tf.keras.losses.SparseCategoricalCrossentropy(from_logits=True),\n",
    "              metrics=['accuracy'])\n",
    "\n",
    "model50.fit(rgb_X_train, Y_train, batch_size=64, epochs=40, steps_per_epoch=len(X_train)/128, validation_split = 0.25,callbacks=callback)\n",
    "model50.save('CNNmodel')\n"
   ]
  },
  {
   "cell_type": "code",
   "execution_count": 10,
   "metadata": {
    "execution": {
     "iopub.execute_input": "2020-10-19T16:29:16.359960Z",
     "iopub.status.busy": "2020-10-19T16:29:16.348968Z",
     "iopub.status.idle": "2020-10-19T16:29:38.193860Z",
     "shell.execute_reply": "2020-10-19T16:29:38.195816Z"
    },
    "papermill": {
     "duration": 21.955316,
     "end_time": "2020-10-19T16:29:38.196049",
     "exception": false,
     "start_time": "2020-10-19T16:29:16.240733",
     "status": "completed"
    },
    "tags": []
   },
   "outputs": [
    {
     "name": "stdout",
     "output_type": "stream",
     "text": [
      "X_test shape: (10101, 1)\n",
      "(10101, 48, 48)\n",
      "316/316 [==============================] - 4s 13ms/step - loss: 2.0062 - accuracy: 0.1263\n",
      "Surprise\n"
     ]
    },
    {
     "data": {
      "text/plain": [
       "<matplotlib.image.AxesImage at 0x7ffa5551be90>"
      ]
     },
     "execution_count": 10,
     "metadata": {},
     "output_type": "execute_result"
    },
    {
     "data": {
      "image/png": "[encoded data removed]",
      "text/plain": [
       "<Figure size 432x288 with 1 Axes>"
      ]
     },
     "metadata": {
      "needs_background": "light"
     },
     "output_type": "display_data"
    }
   ],
   "source": [
    "Expressions = [\"Angry\",\"Disgust\",\"Fear\",\"Happy\",\"Sad\",\"Surprise\",\"Neutral\"]\n",
    "a= []\n",
    "print (\"X_test shape: \" + str(X_test.shape))\n",
    "X_test50 = pd.Series(X_test.flatten())\n",
    "a = []\n",
    "for i in range(len(X_test50)):\n",
    "            image_string = (X_test50)[i].split(' ') \n",
    "            image_data = np.asarray(image_string, dtype=np.uint8).reshape(48,48)\n",
    "            a.append(image_data)\n",
    "\n",
    "\n",
    "X_testing_array = np.array(a)\n",
    "print(X_testing_array.shape)  # (size, 48, 48)\n",
    "rgb_X_test = np.repeat(X_testing_array[..., np.newaxis], 3, -1)\n",
    "# print(rgb_X_test.shape)  # (size, 48, 48, 3)\n",
    "\n",
    "prediction = model50.predict(rgb_X_test)\n",
    "model50.evaluate(rgb_X_test,Y_test)\n",
    "    \n",
    "results = Expressions[np.argmax(prediction[100])]\n",
    "print(results)\n",
    "\n",
    "image_string = X_test50[100].split(' ') \n",
    "image_data = np.asarray(image_string, dtype=np.uint8).reshape(48,48)\n",
    "plt.imshow(image_data)"
   ]
  },
  {
   "cell_type": "code",
   "execution_count": 11,
   "metadata": {
    "execution": {
     "iopub.execute_input": "2020-10-19T16:29:38.402457Z",
     "iopub.status.busy": "2020-10-19T16:29:38.396967Z",
     "iopub.status.idle": "2020-10-19T16:29:38.706645Z",
     "shell.execute_reply": "2020-10-19T16:29:38.706025Z"
    },
    "papermill": {
     "duration": 0.396939,
     "end_time": "2020-10-19T16:29:38.706777",
     "exception": false,
     "start_time": "2020-10-19T16:29:38.309838",
     "status": "completed"
    },
    "tags": []
   },
   "outputs": [
    {
     "name": "stdout",
     "output_type": "stream",
     "text": [
      "Model: \"sequential\"\n",
      "_________________________________________________________________\n",
      "Layer (type)                 Output Shape              Param #   \n",
      "=================================================================\n",
      "conv2d (Conv2D)              (None, 48, 48, 64)        128       \n",
      "_________________________________________________________________\n",
      "batch_normalization (BatchNo (None, 48, 48, 64)        256       \n",
      "_________________________________________________________________\n",
      "dropout (Dropout)            (None, 48, 48, 64)        0         \n",
      "_________________________________________________________________\n",
      "conv2d_1 (Conv2D)            (None, 48, 48, 128)       73856     \n",
      "_________________________________________________________________\n",
      "batch_normalization_1 (Batch (None, 48, 48, 128)       512       \n",
      "_________________________________________________________________\n",
      "dropout_1 (Dropout)          (None, 48, 48, 128)       0         \n",
      "_________________________________________________________________\n",
      "conv2d_2 (Conv2D)            (None, 48, 48, 256)       819456    \n",
      "_________________________________________________________________\n",
      "batch_normalization_2 (Batch (None, 48, 48, 256)       1024      \n",
      "_________________________________________________________________\n",
      "max_pooling2d (MaxPooling2D) (None, 24, 24, 256)       0         \n",
      "_________________________________________________________________\n",
      "dropout_2 (Dropout)          (None, 24, 24, 256)       0         \n",
      "_________________________________________________________________\n",
      "flatten_1 (Flatten)          (None, 147456)            0         \n",
      "_________________________________________________________________\n",
      "dense_1 (Dense)              (None, 128)               18874496  \n",
      "_________________________________________________________________\n",
      "batch_normalization_3 (Batch (None, 128)               512       \n",
      "_________________________________________________________________\n",
      "activation (Activation)      (None, 128)               0         \n",
      "_________________________________________________________________\n",
      "dropout_3 (Dropout)          (None, 128)               0         \n",
      "_________________________________________________________________\n",
      "dense_2 (Dense)              (None, 256)               33024     \n",
      "_________________________________________________________________\n",
      "batch_normalization_4 (Batch (None, 256)               1024      \n",
      "_________________________________________________________________\n",
      "activation_1 (Activation)    (None, 256)               0         \n",
      "_________________________________________________________________\n",
      "dropout_4 (Dropout)          (None, 256)               0         \n",
      "_________________________________________________________________\n",
      "dense_3 (Dense)              (None, 7)                 1799      \n",
      "=================================================================\n",
      "Total params: 19,806,087\n",
      "Trainable params: 19,804,423\n",
      "Non-trainable params: 1,664\n",
      "_________________________________________________________________\n"
     ]
    }
   ],
   "source": [
    "model = models.Sequential()\n",
    "model.add(layers.Conv2D(64, (1, 1), padding='same', activation='relu', input_shape=(48, 48, 1)))\n",
    "model.add(BatchNormalization())\n",
    "model.add(Dropout(0.25))\n",
    "\n",
    "model.add(layers.Conv2D(128, (3, 3),padding='same', activation='relu'))\n",
    "model.add(BatchNormalization())\n",
    "model.add(Dropout(0.25))\n",
    "\n",
    "model.add(layers.Conv2D(256, (5, 5),padding='same', activation='relu'))\n",
    "model.add(BatchNormalization())\n",
    "model.add(layers.MaxPooling2D((2, 2),padding=\"same\"))\n",
    "model.add(Dropout(0.25))\n",
    "\n",
    "\n",
    "model.add(layers.Flatten())\n",
    "\n",
    "model.add(layers.Dense(128))\n",
    "model.add(BatchNormalization())\n",
    "model.add(Activation('relu'))\n",
    "model.add(Dropout(0.25))\n",
    "\n",
    "model.add(layers.Dense(256))\n",
    "model.add(BatchNormalization())\n",
    "model.add(Activation('relu'))\n",
    "model.add(Dropout(0.25))\n",
    "\n",
    "model.add(layers.Dense(7, activation='softmax'))\n",
    "model.summary()\n",
    "\n",
    "\n",
    "model.compile(optimizer='adam',\n",
    "              loss=tf.keras.losses.SparseCategoricalCrossentropy(from_logits=True),\n",
    "              metrics=['accuracy'])\n",
    "\n",
    "# model.fit(X_train, Y_train, batch_size=64, epochs=40, steps_per_epoch=(len(X_train)/128))\n",
    "\n",
    "\n"
   ]
  },
  {
   "cell_type": "code",
   "execution_count": 12,
   "metadata": {
    "execution": {
     "iopub.execute_input": "2020-10-19T16:29:38.861212Z",
     "iopub.status.busy": "2020-10-19T16:29:38.860030Z",
     "iopub.status.idle": "2020-10-19T16:41:08.818584Z",
     "shell.execute_reply": "2020-10-19T16:41:08.818011Z"
    },
    "papermill": {
     "duration": 690.03703,
     "end_time": "2020-10-19T16:41:08.818700",
     "exception": false,
     "start_time": "2020-10-19T16:29:38.781670",
     "status": "completed"
    },
    "tags": []
   },
   "outputs": [
    {
     "data": {
      "image/png": "[encoded data removed]",
      "text/plain": [
       "<Figure size 864x576 with 2 Axes>"
      ]
     },
     "metadata": {
      "needs_background": "light"
     },
     "output_type": "display_data"
    },
    {
     "name": "stdout",
     "output_type": "stream",
     "text": [
      "accuracy\n",
      "\ttraining         \t (min:    0.322, max:    0.917, cur:    0.917)\n",
      "\tvalidation       \t (min:    0.402, max:    0.733, cur:    0.733)\n",
      "Loss\n",
      "\ttraining         \t (min:    1.248, max:    1.824, cur:    1.248)\n",
      "\tvalidation       \t (min:    1.429, max:    1.750, cur:    1.429)\n",
      "316/315 [==============================] - 17s 54ms/step - loss: 1.2484 - accuracy: 0.9175 - val_loss: 1.4292 - val_accuracy: 0.7332\n"
     ]
    },
    {
     "data": {
      "image/png": "[encoded data removed]",
      "text/plain": [
       "<Figure size 432x288 with 1 Axes>"
      ]
     },
     "metadata": {
      "needs_background": "light"
     },
     "output_type": "display_data"
    }
   ],
   "source": [
    "\n",
    "\n",
    "\n",
    "model.fit(X_train, Y_train, batch_size=64, epochs=40, steps_per_epoch=len(X_train)/128, validation_split = 0.25,callbacks=callbacks)\n",
    "\n",
    "model.save('CNNmodel')"
   ]
  },
  {
   "cell_type": "code",
   "execution_count": 13,
   "metadata": {
    "execution": {
     "iopub.execute_input": "2020-10-19T16:41:09.065884Z",
     "iopub.status.busy": "2020-10-19T16:41:09.026798Z",
     "iopub.status.idle": "2020-10-19T16:41:21.484661Z",
     "shell.execute_reply": "2020-10-19T16:41:21.484149Z"
    },
    "papermill": {
     "duration": 12.59211,
     "end_time": "2020-10-19T16:41:21.484770",
     "exception": false,
     "start_time": "2020-10-19T16:41:08.892660",
     "status": "completed"
    },
    "tags": []
   },
   "outputs": [
    {
     "name": "stdout",
     "output_type": "stream",
     "text": [
      "X_test shape: (10101, 1)\n",
      "number of Test examples = 10101\n",
      "X_test shape: (10101, 48, 48, 1)\n",
      "Y_test shape: (10101, 1)\n",
      "316/316 [==============================] - 3s 8ms/step - loss: 1.4214 - accuracy: 0.7400\n",
      "Neutral\n"
     ]
    },
    {
     "data": {
      "text/plain": [
       "<matplotlib.image.AxesImage at 0x7ff5d3209c50>"
      ]
     },
     "execution_count": 13,
     "metadata": {},
     "output_type": "execute_result"
    },
    {
     "data": {
      "image/png": "[encoded data removed]",
      "text/plain": [
       "<Figure size 432x288 with 1 Axes>"
      ]
     },
     "metadata": {
      "needs_background": "light"
     },
     "output_type": "display_data"
    }
   ],
   "source": [
    "Expressions = [\"Angry\",\"Disgust\",\"Fear\",\"Happy\",\"Sad\",\"Surprise\",\"Neutral\"]\n",
    "a= []\n",
    "print (\"X_test shape: \" + str(X_test.shape))\n",
    "X_test = pd.Series(X_test.flatten())\n",
    "\n",
    "a = preprocessing(X_test)\n",
    "X_testing_array = np.array(a)\n",
    "\n",
    "\n",
    "print (\"number of Test examples = \" + str(X_testing_array.shape[0]))\n",
    "print (\"X_test shape: \" + str(X_testing_array.shape))\n",
    "print (\"Y_test shape: \" + str(Y_test.shape))\n",
    "\n",
    "prediction = model.predict(X_testing_array)\n",
    "model.evaluate(X_testing_array,Y_test)\n",
    "\n",
    "results = Expressions[np.argmax(prediction[100])]\n",
    "print(results)\n",
    "image_string = X_test[100].split(' ') \n",
    "image_data = np.asarray(image_string, dtype=np.uint8).reshape(48,48)\n",
    "plt.imshow(image_data)"
   ]
  }
 ],
 "metadata": {
  "kernelspec": {
   "display_name": "Python 3",
   "language": "python",
   "name": "python3"
  },
  "language_info": {
   "codemirror_mode": {
    "name": "ipython",
    "version": 3
   },
   "file_extension": ".py",
   "mimetype": "text/x-python",
   "name": "python",
   "nbconvert_exporter": "python",
   "pygments_lexer": "ipython3",
   "version": "3.7.6"
  },
  "papermill": {
   "duration": 851.137204,
   "end_time": "2020-10-19T16:41:23.146324",
   "environment_variables": {},
   "exception": null,
   "input_path": "__notebook__.ipynb",
   "output_path": "__notebook__.ipynb",
   "parameters": {},
   "start_time": "2020-10-19T16:27:12.009120",
   "version": "2.1.0"
  }
 },
 "nbformat": 4,
 "nbformat_minor": 4
}
